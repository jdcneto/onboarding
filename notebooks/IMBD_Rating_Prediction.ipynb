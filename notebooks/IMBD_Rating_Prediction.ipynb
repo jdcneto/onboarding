{
  "cells": [
    {
      "cell_type": "markdown",
      "metadata": {},
      "source": [
        "# Predição do Ranting do Filmes \n",
        "Este tutorial tem como objetivo realizar a predição de rating de filmes por meio de modelos de machine learning \n",
        "utilizando o dataset do IMDB."
      ]
    },
    {
      "cell_type": "code",
      "execution_count": 1,
      "metadata": {
        "id": "T2lGJ92oBnbl"
      },
      "outputs": [],
      "source": [
        "import numpy as np\n",
        "import pandas as pd"
      ]
    },
    {
      "cell_type": "code",
      "execution_count": 2,
      "metadata": {
        "id": "kVc_j88UBnbn"
      },
      "outputs": [],
      "source": [
        "# importing\n",
        "movie_df = pd.read_csv('movies.csv')"
      ]
    },
    {
      "cell_type": "code",
      "execution_count": 3,
      "metadata": {
        "id": "LkwTiEySBnbo",
        "outputId": "3c682d03-037a-4127-cf41-b0bed7f8c5d4"
      },
      "outputs": [
        {
          "data": {
            "text/plain": [
              "(2589747, 14)"
            ]
          },
          "execution_count": 3,
          "metadata": {},
          "output_type": "execute_result"
        }
      ],
      "source": [
        "movie_df.shape"
      ]
    },
    {
      "cell_type": "code",
      "execution_count": 4,
      "metadata": {},
      "outputs": [
        {
          "data": {
            "text/plain": [
              "0"
            ]
          },
          "execution_count": 4,
          "metadata": {},
          "output_type": "execute_result"
        }
      ],
      "source": [
        "movie_df.isna().sum().sum()"
      ]
    },
    {
      "cell_type": "code",
      "execution_count": 5,
      "metadata": {},
      "outputs": [
        {
          "data": {
            "text/plain": [
              "0"
            ]
          },
          "execution_count": 5,
          "metadata": {},
          "output_type": "execute_result"
        }
      ],
      "source": [
        "movie_df.duplicated().sum()"
      ]
    },
    {
      "cell_type": "code",
      "execution_count": 6,
      "metadata": {
        "id": "uY7kLN22Bnbp",
        "outputId": "13f0165a-ac46-4b86-b3f3-eb6a322d99ec"
      },
      "outputs": [
        {
          "data": {
            "text/html": [
              "<div>\n",
              "<style scoped>\n",
              "    .dataframe tbody tr th:only-of-type {\n",
              "        vertical-align: middle;\n",
              "    }\n",
              "\n",
              "    .dataframe tbody tr th {\n",
              "        vertical-align: top;\n",
              "    }\n",
              "\n",
              "    .dataframe thead th {\n",
              "        text-align: right;\n",
              "    }\n",
              "</style>\n",
              "<table border=\"1\" class=\"dataframe\">\n",
              "  <thead>\n",
              "    <tr style=\"text-align: right;\">\n",
              "      <th></th>\n",
              "      <th>tconst</th>\n",
              "      <th>titleType</th>\n",
              "      <th>primaryTitle</th>\n",
              "      <th>originalTitle</th>\n",
              "      <th>startYear</th>\n",
              "      <th>runtimeMinutes</th>\n",
              "      <th>genres</th>\n",
              "      <th>averageRating</th>\n",
              "      <th>numVotes</th>\n",
              "      <th>ordering</th>\n",
              "      <th>nconst</th>\n",
              "      <th>category</th>\n",
              "      <th>primaryName</th>\n",
              "      <th>primaryProfession</th>\n",
              "    </tr>\n",
              "  </thead>\n",
              "  <tbody>\n",
              "    <tr>\n",
              "      <th>0</th>\n",
              "      <td>tt0000009</td>\n",
              "      <td>movie</td>\n",
              "      <td>Miss Jerry</td>\n",
              "      <td>Miss Jerry</td>\n",
              "      <td>1894.0</td>\n",
              "      <td>45</td>\n",
              "      <td>Romance</td>\n",
              "      <td>5.3</td>\n",
              "      <td>204</td>\n",
              "      <td>1</td>\n",
              "      <td>nm0063086</td>\n",
              "      <td>actress</td>\n",
              "      <td>Blanche Bayliss</td>\n",
              "      <td>actress</td>\n",
              "    </tr>\n",
              "    <tr>\n",
              "      <th>1</th>\n",
              "      <td>tt0000009</td>\n",
              "      <td>movie</td>\n",
              "      <td>Miss Jerry</td>\n",
              "      <td>Miss Jerry</td>\n",
              "      <td>1894.0</td>\n",
              "      <td>45</td>\n",
              "      <td>Romance</td>\n",
              "      <td>5.3</td>\n",
              "      <td>204</td>\n",
              "      <td>2</td>\n",
              "      <td>nm0183823</td>\n",
              "      <td>actor</td>\n",
              "      <td>William Courtenay</td>\n",
              "      <td>actor</td>\n",
              "    </tr>\n",
              "    <tr>\n",
              "      <th>2</th>\n",
              "      <td>tt0019859</td>\n",
              "      <td>movie</td>\n",
              "      <td>Evidence</td>\n",
              "      <td>Evidence</td>\n",
              "      <td>1929.0</td>\n",
              "      <td>70</td>\n",
              "      <td>Crime,Drama,Romance</td>\n",
              "      <td>7.3</td>\n",
              "      <td>27</td>\n",
              "      <td>3</td>\n",
              "      <td>nm0183823</td>\n",
              "      <td>actor</td>\n",
              "      <td>William Courtenay</td>\n",
              "      <td>actor</td>\n",
              "    </tr>\n",
              "    <tr>\n",
              "      <th>3</th>\n",
              "      <td>tt0020403</td>\n",
              "      <td>movie</td>\n",
              "      <td>Show of Shows</td>\n",
              "      <td>The Show of Shows</td>\n",
              "      <td>1929.0</td>\n",
              "      <td>128</td>\n",
              "      <td>Comedy,Music</td>\n",
              "      <td>5.8</td>\n",
              "      <td>454</td>\n",
              "      <td>2</td>\n",
              "      <td>nm0183823</td>\n",
              "      <td>actor</td>\n",
              "      <td>William Courtenay</td>\n",
              "      <td>actor</td>\n",
              "    </tr>\n",
              "    <tr>\n",
              "      <th>4</th>\n",
              "      <td>tt0000009</td>\n",
              "      <td>movie</td>\n",
              "      <td>Miss Jerry</td>\n",
              "      <td>Miss Jerry</td>\n",
              "      <td>1894.0</td>\n",
              "      <td>45</td>\n",
              "      <td>Romance</td>\n",
              "      <td>5.3</td>\n",
              "      <td>204</td>\n",
              "      <td>3</td>\n",
              "      <td>nm1309758</td>\n",
              "      <td>actor</td>\n",
              "      <td>Chauncey Depew</td>\n",
              "      <td>actor,writer</td>\n",
              "    </tr>\n",
              "  </tbody>\n",
              "</table>\n",
              "</div>"
            ],
            "text/plain": [
              "      tconst titleType   primaryTitle      originalTitle  startYear  \\\n",
              "0  tt0000009     movie     Miss Jerry         Miss Jerry     1894.0   \n",
              "1  tt0000009     movie     Miss Jerry         Miss Jerry     1894.0   \n",
              "2  tt0019859     movie       Evidence           Evidence     1929.0   \n",
              "3  tt0020403     movie  Show of Shows  The Show of Shows     1929.0   \n",
              "4  tt0000009     movie     Miss Jerry         Miss Jerry     1894.0   \n",
              "\n",
              "   runtimeMinutes               genres  averageRating  numVotes  ordering  \\\n",
              "0              45              Romance            5.3       204         1   \n",
              "1              45              Romance            5.3       204         2   \n",
              "2              70  Crime,Drama,Romance            7.3        27         3   \n",
              "3             128         Comedy,Music            5.8       454         2   \n",
              "4              45              Romance            5.3       204         3   \n",
              "\n",
              "      nconst category        primaryName primaryProfession  \n",
              "0  nm0063086  actress    Blanche Bayliss           actress  \n",
              "1  nm0183823    actor  William Courtenay             actor  \n",
              "2  nm0183823    actor  William Courtenay             actor  \n",
              "3  nm0183823    actor  William Courtenay             actor  \n",
              "4  nm1309758    actor     Chauncey Depew      actor,writer  "
            ]
          },
          "execution_count": 6,
          "metadata": {},
          "output_type": "execute_result"
        }
      ],
      "source": [
        "movie_df.head()"
      ]
    },
    {
      "cell_type": "markdown",
      "metadata": {},
      "source": [
        "# Modelagem"
      ]
    },
    {
      "cell_type": "markdown",
      "metadata": {},
      "source": [
        "## Separação dos dados. \n",
        "Esta etapa será feita a separação dos dados entre features e labels para construção dos modelos supervisionados\n",
        "onde:\n",
        "- y: Vetor com as labels\n",
        "- X: Matriz das features. \n",
        "\n",
        "Para matrix das features foram removidas colunas redundates ou com alta correlação"
      ]
    },
    {
      "cell_type": "code",
      "execution_count": 7,
      "metadata": {
        "id": "aKuJBQq_Bnbp"
      },
      "outputs": [],
      "source": [
        "y = movie_df['averageRating']\n",
        "X = movie_df.drop(labels=['tconst','titleType', 'primaryTitle', 'averageRating', 'primaryProfession'], axis=1)"
      ]
    },
    {
      "cell_type": "markdown",
      "metadata": {},
      "source": [
        "## Construção do Pipeline de Pré processamento \n",
        "Etapa responsável para construção de etapas para lidar com features de tipos categórias e numéricas.\n",
        "\n",
        "*Obs. Embora neste tutorial serão utilizados modelos baseados em árvores, esta etapa será mantida para utilização de futuros modelos.*\n"
      ]
    },
    {
      "cell_type": "code",
      "execution_count": 8,
      "metadata": {},
      "outputs": [],
      "source": [
        "from sklearn.preprocessing import OrdinalEncoder, StandardScaler\n",
        "from sklearn.compose import make_column_selector, make_column_transformer, ColumnTransformer\n",
        "from sklearn.pipeline import Pipeline, make_pipeline\n",
        "\n",
        "# Features categóricas\n",
        "cat_features = make_pipeline(\n",
        "        (OrdinalEncoder(handle_unknown='use_encoded_value',unknown_value=-1))\n",
        ")\n",
        "\n",
        "# Features numéricas\n",
        "num_features = make_pipeline(\n",
        "    (StandardScaler())\n",
        ")\n",
        "\n",
        "# Pipeline de pré processamento das features\n",
        "preproc = ColumnTransformer(transformers=[\n",
        "                        ('cat_feat', cat_features, make_column_selector(dtype_include=object)),\n",
        "                        ('num_feat', num_features, make_column_selector(dtype_include=np.number) )\n",
        "                         ])"
      ]
    },
    {
      "cell_type": "markdown",
      "metadata": {},
      "source": [
        "## Divisão treino-teste"
      ]
    },
    {
      "cell_type": "code",
      "execution_count": 9,
      "metadata": {},
      "outputs": [],
      "source": [
        "from sklearn.model_selection import train_test_split\n",
        "\n",
        "X_train, X_test, y_train, y_test = train_test_split(X, y,\n",
        "                                                    test_size=0.4,\n",
        "                                                    shuffle=True,\n",
        "                                                    random_state=42)"
      ]
    },
    {
      "cell_type": "markdown",
      "metadata": {},
      "source": [
        "## Treinamento"
      ]
    },
    {
      "cell_type": "markdown",
      "metadata": {},
      "source": [
        "#### Construção do modelo\n",
        "Será criado um novo Pipeline unindo a etapa de préprocessamento como o modelo de regressão, além disso será utilizado uma pequena busca de hiperâmetros. "
      ]
    },
    {
      "cell_type": "code",
      "execution_count": 10,
      "metadata": {},
      "outputs": [],
      "source": [
        "# Instaciando o modelo de regressão\n",
        "from xgboost import XGBRegressor\n",
        "\n",
        "regressor = XGBRegressor(tree_method='gpu_hist',\n",
        "                         random_state=42)"
      ]
    },
    {
      "cell_type": "code",
      "execution_count": 11,
      "metadata": {},
      "outputs": [],
      "source": [
        "model_pipeline = Pipeline(steps=[\n",
        "    ('preprocessing', preproc),\n",
        "    ('regressor', regressor)\n",
        "])"
      ]
    },
    {
      "cell_type": "code",
      "execution_count": 12,
      "metadata": {},
      "outputs": [],
      "source": [
        "from sklearn.experimental import enable_halving_search_cv\n",
        "from sklearn.model_selection import HalvingGridSearchCV\n",
        "\n",
        "param_grid = {'regressor__n_estimators':[50,100],\n",
        "              'regressor__max_depth':[3,5],\n",
        "              'regressor__learning_rate':[0.1, 0.5]           \n",
        "}\n",
        "\n",
        "search = HalvingGridSearchCV(model_pipeline,\n",
        "                             param_grid=param_grid,\n",
        "                             cv=3,\n",
        "                             random_state=42,\n",
        "                             n_jobs=-1,\n",
        "                             refit=True,\n",
        "                             scoring='neg_mean_squared_error')"
      ]
    },
    {
      "cell_type": "markdown",
      "metadata": {},
      "source": [
        "### treino"
      ]
    },
    {
      "cell_type": "code",
      "execution_count": 13,
      "metadata": {},
      "outputs": [
        {
          "data": {
            "text/html": [
              "<style>#sk-container-id-1 {color: black;background-color: white;}#sk-container-id-1 pre{padding: 0;}#sk-container-id-1 div.sk-toggleable {background-color: white;}#sk-container-id-1 label.sk-toggleable__label {cursor: pointer;display: block;width: 100%;margin-bottom: 0;padding: 0.3em;box-sizing: border-box;text-align: center;}#sk-container-id-1 label.sk-toggleable__label-arrow:before {content: \"▸\";float: left;margin-right: 0.25em;color: #696969;}#sk-container-id-1 label.sk-toggleable__label-arrow:hover:before {color: black;}#sk-container-id-1 div.sk-estimator:hover label.sk-toggleable__label-arrow:before {color: black;}#sk-container-id-1 div.sk-toggleable__content {max-height: 0;max-width: 0;overflow: hidden;text-align: left;background-color: #f0f8ff;}#sk-container-id-1 div.sk-toggleable__content pre {margin: 0.2em;color: black;border-radius: 0.25em;background-color: #f0f8ff;}#sk-container-id-1 input.sk-toggleable__control:checked~div.sk-toggleable__content {max-height: 200px;max-width: 100%;overflow: auto;}#sk-container-id-1 input.sk-toggleable__control:checked~label.sk-toggleable__label-arrow:before {content: \"▾\";}#sk-container-id-1 div.sk-estimator input.sk-toggleable__control:checked~label.sk-toggleable__label {background-color: #d4ebff;}#sk-container-id-1 div.sk-label input.sk-toggleable__control:checked~label.sk-toggleable__label {background-color: #d4ebff;}#sk-container-id-1 input.sk-hidden--visually {border: 0;clip: rect(1px 1px 1px 1px);clip: rect(1px, 1px, 1px, 1px);height: 1px;margin: -1px;overflow: hidden;padding: 0;position: absolute;width: 1px;}#sk-container-id-1 div.sk-estimator {font-family: monospace;background-color: #f0f8ff;border: 1px dotted black;border-radius: 0.25em;box-sizing: border-box;margin-bottom: 0.5em;}#sk-container-id-1 div.sk-estimator:hover {background-color: #d4ebff;}#sk-container-id-1 div.sk-parallel-item::after {content: \"\";width: 100%;border-bottom: 1px solid gray;flex-grow: 1;}#sk-container-id-1 div.sk-label:hover label.sk-toggleable__label {background-color: #d4ebff;}#sk-container-id-1 div.sk-serial::before {content: \"\";position: absolute;border-left: 1px solid gray;box-sizing: border-box;top: 0;bottom: 0;left: 50%;z-index: 0;}#sk-container-id-1 div.sk-serial {display: flex;flex-direction: column;align-items: center;background-color: white;padding-right: 0.2em;padding-left: 0.2em;position: relative;}#sk-container-id-1 div.sk-item {position: relative;z-index: 1;}#sk-container-id-1 div.sk-parallel {display: flex;align-items: stretch;justify-content: center;background-color: white;position: relative;}#sk-container-id-1 div.sk-item::before, #sk-container-id-1 div.sk-parallel-item::before {content: \"\";position: absolute;border-left: 1px solid gray;box-sizing: border-box;top: 0;bottom: 0;left: 50%;z-index: -1;}#sk-container-id-1 div.sk-parallel-item {display: flex;flex-direction: column;z-index: 1;position: relative;background-color: white;}#sk-container-id-1 div.sk-parallel-item:first-child::after {align-self: flex-end;width: 50%;}#sk-container-id-1 div.sk-parallel-item:last-child::after {align-self: flex-start;width: 50%;}#sk-container-id-1 div.sk-parallel-item:only-child::after {width: 0;}#sk-container-id-1 div.sk-dashed-wrapped {border: 1px dashed gray;margin: 0 0.4em 0.5em 0.4em;box-sizing: border-box;padding-bottom: 0.4em;background-color: white;}#sk-container-id-1 div.sk-label label {font-family: monospace;font-weight: bold;display: inline-block;line-height: 1.2em;}#sk-container-id-1 div.sk-label-container {text-align: center;}#sk-container-id-1 div.sk-container {/* jupyter's `normalize.less` sets `[hidden] { display: none; }` but bootstrap.min.css set `[hidden] { display: none !important; }` so we also need the `!important` here to be able to override the default hidden behavior on the sphinx rendered scikit-learn.org. See: https://github.com/scikit-learn/scikit-learn/issues/21755 */display: inline-block !important;position: relative;}#sk-container-id-1 div.sk-text-repr-fallback {display: none;}</style><div id=\"sk-container-id-1\" class=\"sk-top-container\"><div class=\"sk-text-repr-fallback\"><pre>HalvingGridSearchCV(cv=3,\n",
              "                    estimator=Pipeline(steps=[(&#x27;preprocessing&#x27;,\n",
              "                                               ColumnTransformer(transformers=[(&#x27;cat_feat&#x27;,\n",
              "                                                                                Pipeline(steps=[(&#x27;ordinalencoder&#x27;,\n",
              "                                                                                                 OrdinalEncoder(handle_unknown=&#x27;use_encoded_value&#x27;,\n",
              "                                                                                                                unknown_value=-1))]),\n",
              "                                                                                &lt;sklearn.compose._column_transformer.make_column_selector object at 0x000002B137B3EFB0&gt;),\n",
              "                                                                               (&#x27;num_feat&#x27;,\n",
              "                                                                                Pipeline(steps=[(&#x27;standardscaler&#x27;,\n",
              "                                                                                                 S...\n",
              "                                                            max_depth=None,\n",
              "                                                            max_leaves=None,\n",
              "                                                            min_child_weight=None,\n",
              "                                                            missing=nan,\n",
              "                                                            monotone_constraints=None,\n",
              "                                                            n_estimators=100,\n",
              "                                                            n_jobs=None,\n",
              "                                                            num_parallel_tree=None,\n",
              "                                                            predictor=None,\n",
              "                                                            random_state=42, ...))]),\n",
              "                    n_jobs=-1,\n",
              "                    param_grid={&#x27;regressor__learning_rate&#x27;: [0.1, 0.5],\n",
              "                                &#x27;regressor__max_depth&#x27;: [3, 5],\n",
              "                                &#x27;regressor__n_estimators&#x27;: [50, 100]},\n",
              "                    random_state=42, scoring=&#x27;neg_mean_squared_error&#x27;)</pre><b>In a Jupyter environment, please rerun this cell to show the HTML representation or trust the notebook. <br />On GitHub, the HTML representation is unable to render, please try loading this page with nbviewer.org.</b></div><div class=\"sk-container\" hidden><div class=\"sk-item sk-dashed-wrapped\"><div class=\"sk-label-container\"><div class=\"sk-label sk-toggleable\"><input class=\"sk-toggleable__control sk-hidden--visually\" id=\"sk-estimator-id-1\" type=\"checkbox\" ><label for=\"sk-estimator-id-1\" class=\"sk-toggleable__label sk-toggleable__label-arrow\">HalvingGridSearchCV</label><div class=\"sk-toggleable__content\"><pre>HalvingGridSearchCV(cv=3,\n",
              "                    estimator=Pipeline(steps=[(&#x27;preprocessing&#x27;,\n",
              "                                               ColumnTransformer(transformers=[(&#x27;cat_feat&#x27;,\n",
              "                                                                                Pipeline(steps=[(&#x27;ordinalencoder&#x27;,\n",
              "                                                                                                 OrdinalEncoder(handle_unknown=&#x27;use_encoded_value&#x27;,\n",
              "                                                                                                                unknown_value=-1))]),\n",
              "                                                                                &lt;sklearn.compose._column_transformer.make_column_selector object at 0x000002B137B3EFB0&gt;),\n",
              "                                                                               (&#x27;num_feat&#x27;,\n",
              "                                                                                Pipeline(steps=[(&#x27;standardscaler&#x27;,\n",
              "                                                                                                 S...\n",
              "                                                            max_depth=None,\n",
              "                                                            max_leaves=None,\n",
              "                                                            min_child_weight=None,\n",
              "                                                            missing=nan,\n",
              "                                                            monotone_constraints=None,\n",
              "                                                            n_estimators=100,\n",
              "                                                            n_jobs=None,\n",
              "                                                            num_parallel_tree=None,\n",
              "                                                            predictor=None,\n",
              "                                                            random_state=42, ...))]),\n",
              "                    n_jobs=-1,\n",
              "                    param_grid={&#x27;regressor__learning_rate&#x27;: [0.1, 0.5],\n",
              "                                &#x27;regressor__max_depth&#x27;: [3, 5],\n",
              "                                &#x27;regressor__n_estimators&#x27;: [50, 100]},\n",
              "                    random_state=42, scoring=&#x27;neg_mean_squared_error&#x27;)</pre></div></div></div><div class=\"sk-parallel\"><div class=\"sk-parallel-item\"><div class=\"sk-item\"><div class=\"sk-label-container\"><div class=\"sk-label sk-toggleable\"><input class=\"sk-toggleable__control sk-hidden--visually\" id=\"sk-estimator-id-2\" type=\"checkbox\" ><label for=\"sk-estimator-id-2\" class=\"sk-toggleable__label sk-toggleable__label-arrow\">estimator: Pipeline</label><div class=\"sk-toggleable__content\"><pre>Pipeline(steps=[(&#x27;preprocessing&#x27;,\n",
              "                 ColumnTransformer(transformers=[(&#x27;cat_feat&#x27;,\n",
              "                                                  Pipeline(steps=[(&#x27;ordinalencoder&#x27;,\n",
              "                                                                   OrdinalEncoder(handle_unknown=&#x27;use_encoded_value&#x27;,\n",
              "                                                                                  unknown_value=-1))]),\n",
              "                                                  &lt;sklearn.compose._column_transformer.make_column_selector object at 0x000002B137B3EFB0&gt;),\n",
              "                                                 (&#x27;num_feat&#x27;,\n",
              "                                                  Pipeline(steps=[(&#x27;standardscaler&#x27;,\n",
              "                                                                   StandardScaler())]),\n",
              "                                                  &lt;sklearn.compose...\n",
              "                              feature_types=None, gamma=None, gpu_id=None,\n",
              "                              grow_policy=None, importance_type=None,\n",
              "                              interaction_constraints=None, learning_rate=None,\n",
              "                              max_bin=None, max_cat_threshold=None,\n",
              "                              max_cat_to_onehot=None, max_delta_step=None,\n",
              "                              max_depth=None, max_leaves=None,\n",
              "                              min_child_weight=None, missing=nan,\n",
              "                              monotone_constraints=None, n_estimators=100,\n",
              "                              n_jobs=None, num_parallel_tree=None,\n",
              "                              predictor=None, random_state=42, ...))])</pre></div></div></div><div class=\"sk-serial\"><div class=\"sk-item\"><div class=\"sk-serial\"><div class=\"sk-item sk-dashed-wrapped\"><div class=\"sk-label-container\"><div class=\"sk-label sk-toggleable\"><input class=\"sk-toggleable__control sk-hidden--visually\" id=\"sk-estimator-id-3\" type=\"checkbox\" ><label for=\"sk-estimator-id-3\" class=\"sk-toggleable__label sk-toggleable__label-arrow\">preprocessing: ColumnTransformer</label><div class=\"sk-toggleable__content\"><pre>ColumnTransformer(transformers=[(&#x27;cat_feat&#x27;,\n",
              "                                 Pipeline(steps=[(&#x27;ordinalencoder&#x27;,\n",
              "                                                  OrdinalEncoder(handle_unknown=&#x27;use_encoded_value&#x27;,\n",
              "                                                                 unknown_value=-1))]),\n",
              "                                 &lt;sklearn.compose._column_transformer.make_column_selector object at 0x000002B137B3EFB0&gt;),\n",
              "                                (&#x27;num_feat&#x27;,\n",
              "                                 Pipeline(steps=[(&#x27;standardscaler&#x27;,\n",
              "                                                  StandardScaler())]),\n",
              "                                 &lt;sklearn.compose._column_transformer.make_column_selector object at 0x000002B1024A4460&gt;)])</pre></div></div></div><div class=\"sk-parallel\"><div class=\"sk-parallel-item\"><div class=\"sk-item\"><div class=\"sk-label-container\"><div class=\"sk-label sk-toggleable\"><input class=\"sk-toggleable__control sk-hidden--visually\" id=\"sk-estimator-id-4\" type=\"checkbox\" ><label for=\"sk-estimator-id-4\" class=\"sk-toggleable__label sk-toggleable__label-arrow\">cat_feat</label><div class=\"sk-toggleable__content\"><pre>&lt;sklearn.compose._column_transformer.make_column_selector object at 0x000002B137B3EFB0&gt;</pre></div></div></div><div class=\"sk-serial\"><div class=\"sk-item\"><div class=\"sk-serial\"><div class=\"sk-item\"><div class=\"sk-estimator sk-toggleable\"><input class=\"sk-toggleable__control sk-hidden--visually\" id=\"sk-estimator-id-5\" type=\"checkbox\" ><label for=\"sk-estimator-id-5\" class=\"sk-toggleable__label sk-toggleable__label-arrow\">OrdinalEncoder</label><div class=\"sk-toggleable__content\"><pre>OrdinalEncoder(handle_unknown=&#x27;use_encoded_value&#x27;, unknown_value=-1)</pre></div></div></div></div></div></div></div></div><div class=\"sk-parallel-item\"><div class=\"sk-item\"><div class=\"sk-label-container\"><div class=\"sk-label sk-toggleable\"><input class=\"sk-toggleable__control sk-hidden--visually\" id=\"sk-estimator-id-6\" type=\"checkbox\" ><label for=\"sk-estimator-id-6\" class=\"sk-toggleable__label sk-toggleable__label-arrow\">num_feat</label><div class=\"sk-toggleable__content\"><pre>&lt;sklearn.compose._column_transformer.make_column_selector object at 0x000002B1024A4460&gt;</pre></div></div></div><div class=\"sk-serial\"><div class=\"sk-item\"><div class=\"sk-serial\"><div class=\"sk-item\"><div class=\"sk-estimator sk-toggleable\"><input class=\"sk-toggleable__control sk-hidden--visually\" id=\"sk-estimator-id-7\" type=\"checkbox\" ><label for=\"sk-estimator-id-7\" class=\"sk-toggleable__label sk-toggleable__label-arrow\">StandardScaler</label><div class=\"sk-toggleable__content\"><pre>StandardScaler()</pre></div></div></div></div></div></div></div></div></div></div><div class=\"sk-item\"><div class=\"sk-estimator sk-toggleable\"><input class=\"sk-toggleable__control sk-hidden--visually\" id=\"sk-estimator-id-8\" type=\"checkbox\" ><label for=\"sk-estimator-id-8\" class=\"sk-toggleable__label sk-toggleable__label-arrow\">XGBRegressor</label><div class=\"sk-toggleable__content\"><pre>XGBRegressor(base_score=None, booster=None, callbacks=None,\n",
              "             colsample_bylevel=None, colsample_bynode=None,\n",
              "             colsample_bytree=None, early_stopping_rounds=None,\n",
              "             enable_categorical=False, eval_metric=None, feature_types=None,\n",
              "             gamma=None, gpu_id=None, grow_policy=None, importance_type=None,\n",
              "             interaction_constraints=None, learning_rate=None, max_bin=None,\n",
              "             max_cat_threshold=None, max_cat_to_onehot=None,\n",
              "             max_delta_step=None, max_depth=None, max_leaves=None,\n",
              "             min_child_weight=None, missing=nan, monotone_constraints=None,\n",
              "             n_estimators=100, n_jobs=None, num_parallel_tree=None,\n",
              "             predictor=None, random_state=42, ...)</pre></div></div></div></div></div></div></div></div></div></div></div></div>"
            ],
            "text/plain": [
              "HalvingGridSearchCV(cv=3,\n",
              "                    estimator=Pipeline(steps=[('preprocessing',\n",
              "                                               ColumnTransformer(transformers=[('cat_feat',\n",
              "                                                                                Pipeline(steps=[('ordinalencoder',\n",
              "                                                                                                 OrdinalEncoder(handle_unknown='use_encoded_value',\n",
              "                                                                                                                unknown_value=-1))]),\n",
              "                                                                                <sklearn.compose._column_transformer.make_column_selector object at 0x000002B137B3EFB0>),\n",
              "                                                                               ('num_feat',\n",
              "                                                                                Pipeline(steps=[('standardscaler',\n",
              "                                                                                                 S...\n",
              "                                                            max_depth=None,\n",
              "                                                            max_leaves=None,\n",
              "                                                            min_child_weight=None,\n",
              "                                                            missing=nan,\n",
              "                                                            monotone_constraints=None,\n",
              "                                                            n_estimators=100,\n",
              "                                                            n_jobs=None,\n",
              "                                                            num_parallel_tree=None,\n",
              "                                                            predictor=None,\n",
              "                                                            random_state=42, ...))]),\n",
              "                    n_jobs=-1,\n",
              "                    param_grid={'regressor__learning_rate': [0.1, 0.5],\n",
              "                                'regressor__max_depth': [3, 5],\n",
              "                                'regressor__n_estimators': [50, 100]},\n",
              "                    random_state=42, scoring='neg_mean_squared_error')"
            ]
          },
          "execution_count": 13,
          "metadata": {},
          "output_type": "execute_result"
        }
      ],
      "source": [
        "search.fit(X_train, y_train)"
      ]
    },
    {
      "cell_type": "markdown",
      "metadata": {},
      "source": [
        "#### Melhores parâmetros selecionados e métricas durante o k-fold"
      ]
    },
    {
      "cell_type": "code",
      "execution_count": 14,
      "metadata": {},
      "outputs": [
        {
          "name": "stdout",
          "output_type": "stream",
          "text": [
            "{'regressor__learning_rate': 0.5, 'regressor__max_depth': 5, 'regressor__n_estimators': 50}\n"
          ]
        }
      ],
      "source": [
        "print(search.best_params_)"
      ]
    },
    {
      "cell_type": "code",
      "execution_count": 15,
      "metadata": {},
      "outputs": [
        {
          "name": "stdout",
          "output_type": "stream",
          "text": [
            "Score de Validação: -1.20033 +- 0.00402\n"
          ]
        }
      ],
      "source": [
        "index = search.best_index_\n",
        "results = search.cv_results_\n",
        "\n",
        "mean_score = results['mean_test_score'][index]\n",
        "std_score  = results['std_test_score'][index]\n",
        "\n",
        "print(f\"Score de Validação: {mean_score:.5f} +- {std_score:.5f}\")"
      ]
    },
    {
      "cell_type": "markdown",
      "metadata": {},
      "source": [
        "----------------------------------------------**Avaliação do desempenho**-----------------------------------------------------------"
      ]
    },
    {
      "cell_type": "code",
      "execution_count": 16,
      "metadata": {},
      "outputs": [],
      "source": [
        "predicted = search.predict(X_test)"
      ]
    },
    {
      "cell_type": "code",
      "execution_count": 17,
      "metadata": {},
      "outputs": [],
      "source": [
        "from sklearn.metrics import mean_absolute_percentage_error, mean_squared_error, mean_absolute_error"
      ]
    },
    {
      "cell_type": "code",
      "execution_count": 21,
      "metadata": {},
      "outputs": [
        {
          "name": "stdout",
          "output_type": "stream",
          "text": [
            "Métrica do modelo                          Valor\n",
            "---------------------------------------  -------\n",
            "Erro médio Absoluto percentual (MAPE) :     0.14\n",
            "Erro médio absoluto (MAE) :                 0.83\n",
            "Erro médio quadrático (MSE):                1.19\n",
            "Raiz do erro médio quadrático (RMSE) :      1.09\n"
          ]
        }
      ],
      "source": [
        "from tabulate import tabulate\n",
        "\n",
        "print(tabulate([['Erro médio Absoluto percentual (MAPE) :', mean_absolute_percentage_error(predicted, y_test)], \n",
        "                ['Erro médio absoluto (MAE) :', mean_absolute_error(predicted, y_test)],\n",
        "                ['Erro médio quadrático (MSE):', mean_squared_error(predicted, y_test)],\n",
        "                ['Raiz do erro médio quadrático (RMSE) :', np.sqrt(mean_squared_error(predicted, y_test))]],     \n",
        "               headers=['Métrica do modelo', 'Valor'], floatfmt=\".2f\"))"
      ]
    },
    {
      "cell_type": "markdown",
      "metadata": {},
      "source": [
        "# Model Persistence\n",
        "Aqui salvaremos nosso pipeline construído"
      ]
    },
    {
      "cell_type": "code",
      "execution_count": 22,
      "metadata": {},
      "outputs": [
        {
          "data": {
            "text/plain": [
              "['my_saved_pipeline.joblib']"
            ]
          },
          "execution_count": 22,
          "metadata": {},
          "output_type": "execute_result"
        }
      ],
      "source": [
        "import joblib\n",
        "\n",
        "joblib.dump(search, 'my_saved_pipeline.joblib')"
      ]
    },
    {
      "cell_type": "markdown",
      "metadata": {},
      "source": [
        "#### Loading saved model pipeline"
      ]
    },
    {
      "cell_type": "code",
      "execution_count": 23,
      "metadata": {},
      "outputs": [],
      "source": [
        "saved_pipeline = joblib.load('my_saved_pipeline.joblib')"
      ]
    },
    {
      "cell_type": "markdown",
      "metadata": {},
      "source": [
        "#### Prediction Ranting from movie feature (single sample)"
      ]
    },
    {
      "cell_type": "code",
      "execution_count": 40,
      "metadata": {},
      "outputs": [],
      "source": [
        "y_test.reset_index(inplace=True, drop=True)\n",
        "X_test.reset_index(inplace=True, drop=True)"
      ]
    },
    {
      "cell_type": "code",
      "execution_count": 85,
      "metadata": {},
      "outputs": [],
      "source": [
        "# selecting a random movie from test set\n",
        "from random import sample\n",
        "\n",
        "idx = sample(sorted(y_test.index.values), 1)"
      ]
    },
    {
      "cell_type": "code",
      "execution_count": 86,
      "metadata": {},
      "outputs": [
        {
          "data": {
            "text/html": [
              "<div>\n",
              "<style scoped>\n",
              "    .dataframe tbody tr th:only-of-type {\n",
              "        vertical-align: middle;\n",
              "    }\n",
              "\n",
              "    .dataframe tbody tr th {\n",
              "        vertical-align: top;\n",
              "    }\n",
              "\n",
              "    .dataframe thead th {\n",
              "        text-align: right;\n",
              "    }\n",
              "</style>\n",
              "<table border=\"1\" class=\"dataframe\">\n",
              "  <thead>\n",
              "    <tr style=\"text-align: right;\">\n",
              "      <th></th>\n",
              "      <th>originalTitle</th>\n",
              "      <th>startYear</th>\n",
              "      <th>runtimeMinutes</th>\n",
              "      <th>genres</th>\n",
              "      <th>numVotes</th>\n",
              "      <th>ordering</th>\n",
              "      <th>nconst</th>\n",
              "      <th>category</th>\n",
              "      <th>primaryName</th>\n",
              "    </tr>\n",
              "  </thead>\n",
              "  <tbody>\n",
              "    <tr>\n",
              "      <th>337073</th>\n",
              "      <td>The Postman Always Rings Twice</td>\n",
              "      <td>1946.0</td>\n",
              "      <td>113</td>\n",
              "      <td>Crime,Drama,Film-Noir</td>\n",
              "      <td>21817</td>\n",
              "      <td>10</td>\n",
              "      <td>nm0005956</td>\n",
              "      <td>composer</td>\n",
              "      <td>George Bassman</td>\n",
              "    </tr>\n",
              "  </tbody>\n",
              "</table>\n",
              "</div>"
            ],
            "text/plain": [
              "                         originalTitle  startYear  runtimeMinutes  \\\n",
              "337073  The Postman Always Rings Twice     1946.0             113   \n",
              "\n",
              "                       genres  numVotes  ordering     nconst  category  \\\n",
              "337073  Crime,Drama,Film-Noir     21817        10  nm0005956  composer   \n",
              "\n",
              "           primaryName  \n",
              "337073  George Bassman  "
            ]
          },
          "execution_count": 86,
          "metadata": {},
          "output_type": "execute_result"
        }
      ],
      "source": [
        "# Movie Featues\n",
        "X_test.iloc[idx]"
      ]
    },
    {
      "cell_type": "code",
      "execution_count": 87,
      "metadata": {},
      "outputs": [],
      "source": [
        "# Prediction\n",
        "pred_rate = saved_pipeline.predict(X_test.iloc[idx])"
      ]
    },
    {
      "cell_type": "code",
      "execution_count": 108,
      "metadata": {},
      "outputs": [
        {
          "name": "stdout",
          "output_type": "stream",
          "text": [
            "Movie Name: The Postman Always Rings Twice\n",
            "Movie Rating: 7.40\n",
            "Predicted Rating: 7.63\n"
          ]
        }
      ],
      "source": [
        "movie_name = X_test.originalTitle.loc[idx].values[0]\n",
        "print(f'Movie Name: {movie_name}\\nMovie Rating: {y_test[idx].values[0]:.2f}\\nPredicted Rating: {pred_rate[0]:.2f}')"
      ]
    }
  ],
  "metadata": {
    "colab": {
      "provenance": []
    },
    "kernelspec": {
      "display_name": "onboard",
      "language": "python",
      "name": "python3"
    },
    "language_info": {
      "codemirror_mode": {
        "name": "ipython",
        "version": 3
      },
      "file_extension": ".py",
      "mimetype": "text/x-python",
      "name": "python",
      "nbconvert_exporter": "python",
      "pygments_lexer": "ipython3",
      "version": "3.10.0"
    },
    "orig_nbformat": 4
  },
  "nbformat": 4,
  "nbformat_minor": 0
}
